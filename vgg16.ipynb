{
 "cells": [
  {
   "cell_type": "code",
   "execution_count": 8,
   "metadata": {},
   "outputs": [],
   "source": [
    "import os\n",
    "import shutil"
   ]
  },
  {
   "cell_type": "code",
   "execution_count": 9,
   "metadata": {},
   "outputs": [],
   "source": [
    "dir0 = 'F:\\\\share\\\\data_NR'\n",
    "base_dir = 'F:\\\\share\\\\NWPU-RESISC45'"
   ]
  },
  {
   "cell_type": "code",
   "execution_count": 10,
   "metadata": {},
   "outputs": [],
   "source": [
    "train_dir = os.path.join(dir0,'train')\n",
    "os.mkdir(train_dir)"
   ]
  },
  {
   "cell_type": "code",
   "execution_count": 11,
   "metadata": {},
   "outputs": [],
   "source": [
    "validation_dir = os.path.join(dir0,'validation')\n",
    "os.mkdir(validation_dir)\n",
    "\n",
    "test_dir = os.path.join(dir0,'test')\n",
    "os.mkdir(test_dir)"
   ]
  },
  {
   "cell_type": "code",
   "execution_count": 12,
   "metadata": {},
   "outputs": [],
   "source": [
    "for dir1 in os.listdir(base_dir):\n",
    "    dir2 = os.path.join(base_dir,dir1)\n",
    "    train_dir_1 = os.path.join(train_dir,dir1)\n",
    "    os.mkdir(train_dir_1)\n",
    "    fnames = []\n",
    "    for i in range(1,501):\n",
    "        a = str(i).zfill(3)\n",
    "        b = '%s_%s.jpg'%(dir1,a)\n",
    "        fnames.append(b) \n",
    "    for fname in fnames:\n",
    "        src = os.path.join(dir2,fname)\n",
    "        dst = os.path.join(train_dir_1,fname)\n",
    "        shutil.copyfile(src,dst)"
   ]
  },
  {
   "cell_type": "code",
   "execution_count": 13,
   "metadata": {},
   "outputs": [],
   "source": [
    "for dir1 in os.listdir(base_dir):\n",
    "    dir2 = os.path.join(base_dir,dir1)\n",
    "    validation_dir_1 = os.path.join(validation_dir,dir1)\n",
    "    os.mkdir(validation_dir_1)\n",
    "    fnames1 = []\n",
    "    for j in range(501,601):\n",
    "        c = str(j).zfill(3) \n",
    "        d = '%s_%s.jpg'%(dir1,c)\n",
    "        fnames1.append(d) \n",
    "    for fname1 in fnames1:\n",
    "        src1 = os.path.join(dir2,fname1)\n",
    "        dst1 = os.path.join(validation_dir_1,fname1)\n",
    "        shutil.copyfile(src1,dst1)"
   ]
  },
  {
   "cell_type": "code",
   "execution_count": 14,
   "metadata": {},
   "outputs": [],
   "source": [
    "for dir1 in os.listdir(base_dir):\n",
    "    dir2 = os.path.join(base_dir,dir1)\n",
    "    test_dir_1 = os.path.join(test_dir,dir1)\n",
    "    os.mkdir(test_dir_1)\n",
    "    fnames2 = []\n",
    "    for k in range(601,701):\n",
    "        e = str(k).zfill(3) \n",
    "        f = '%s_%s.jpg'%(dir1,e)\n",
    "        fnames2.append(f) \n",
    "    for fname2 in fnames2:\n",
    "        src2 = os.path.join(dir2,fname2)\n",
    "        dst2 = os.path.join(test_dir_1,fname2)\n",
    "        shutil.copyfile(src2,dst2)"
   ]
  },
  {
   "cell_type": "code",
   "execution_count": null,
   "metadata": {},
   "outputs": [],
   "source": []
  },
  {
   "cell_type": "code",
   "execution_count": 15,
   "metadata": {},
   "outputs": [
    {
     "name": "stderr",
     "output_type": "stream",
     "text": [
      "Using TensorFlow backend.\n"
     ]
    }
   ],
   "source": [
    "from keras.applications import VGG16"
   ]
  },
  {
   "cell_type": "code",
   "execution_count": 16,
   "metadata": {},
   "outputs": [],
   "source": [
    "cov_base = VGG16(weights = 'imagenet',include_top = False,input_shape = (256,256,3))"
   ]
  },
  {
   "cell_type": "code",
   "execution_count": 18,
   "metadata": {},
   "outputs": [
    {
     "name": "stdout",
     "output_type": "stream",
     "text": [
      "_________________________________________________________________\n",
      "Layer (type)                 Output Shape              Param #   \n",
      "=================================================================\n",
      "input_1 (InputLayer)         (None, 256, 256, 3)       0         \n",
      "_________________________________________________________________\n",
      "block1_conv1 (Conv2D)        (None, 256, 256, 64)      1792      \n",
      "_________________________________________________________________\n",
      "block1_conv2 (Conv2D)        (None, 256, 256, 64)      36928     \n",
      "_________________________________________________________________\n",
      "block1_pool (MaxPooling2D)   (None, 128, 128, 64)      0         \n",
      "_________________________________________________________________\n",
      "block2_conv1 (Conv2D)        (None, 128, 128, 128)     73856     \n",
      "_________________________________________________________________\n",
      "block2_conv2 (Conv2D)        (None, 128, 128, 128)     147584    \n",
      "_________________________________________________________________\n",
      "block2_pool (MaxPooling2D)   (None, 64, 64, 128)       0         \n",
      "_________________________________________________________________\n",
      "block3_conv1 (Conv2D)        (None, 64, 64, 256)       295168    \n",
      "_________________________________________________________________\n",
      "block3_conv2 (Conv2D)        (None, 64, 64, 256)       590080    \n",
      "_________________________________________________________________\n",
      "block3_conv3 (Conv2D)        (None, 64, 64, 256)       590080    \n",
      "_________________________________________________________________\n",
      "block3_pool (MaxPooling2D)   (None, 32, 32, 256)       0         \n",
      "_________________________________________________________________\n",
      "block4_conv1 (Conv2D)        (None, 32, 32, 512)       1180160   \n",
      "_________________________________________________________________\n",
      "block4_conv2 (Conv2D)        (None, 32, 32, 512)       2359808   \n",
      "_________________________________________________________________\n",
      "block4_conv3 (Conv2D)        (None, 32, 32, 512)       2359808   \n",
      "_________________________________________________________________\n",
      "block4_pool (MaxPooling2D)   (None, 16, 16, 512)       0         \n",
      "_________________________________________________________________\n",
      "block5_conv1 (Conv2D)        (None, 16, 16, 512)       2359808   \n",
      "_________________________________________________________________\n",
      "block5_conv2 (Conv2D)        (None, 16, 16, 512)       2359808   \n",
      "_________________________________________________________________\n",
      "block5_conv3 (Conv2D)        (None, 16, 16, 512)       2359808   \n",
      "_________________________________________________________________\n",
      "block5_pool (MaxPooling2D)   (None, 8, 8, 512)         0         \n",
      "=================================================================\n",
      "Total params: 14,714,688\n",
      "Trainable params: 14,714,688\n",
      "Non-trainable params: 0\n",
      "_________________________________________________________________\n"
     ]
    }
   ],
   "source": [
    "cov_base.summary()"
   ]
  },
  {
   "cell_type": "markdown",
   "metadata": {},
   "source": [
    "from keras import models\n",
    "from keras import layers"
   ]
  },
  {
   "cell_type": "markdown",
   "metadata": {},
   "source": [
    "model = models.Sequential()\n",
    "model.add(cov_base)\n",
    "model.add(layers.Flatten())\n",
    "model.add(layers.Dense(256,activation='relu'))\n",
    "model.add(layers.Dense(45,activation='softmax'))\n",
    "model.summary()"
   ]
  },
  {
   "cell_type": "markdown",
   "metadata": {},
   "source": [
    "cov_base.trainable = False\n",
    "model.summary()"
   ]
  },
  {
   "cell_type": "code",
   "execution_count": null,
   "metadata": {},
   "outputs": [],
   "source": [
    "from keras.preprocessing.image import ImageDataGenerator\n",
    "from keras import optimizers"
   ]
  },
  {
   "cell_type": "code",
   "execution_count": null,
   "metadata": {},
   "outputs": [],
   "source": [
    "train_datagen = ImageDataGenerator(rescale=1.0/255,\n",
    "                                   rotation_range=40,\n",
    "                                  width_shift_range=0.2,\n",
    "                                  height_shift_range=0.2,\n",
    "                                  shear_range=0.2,\n",
    "                                  zoom_range=0.2,\n",
    "                                  horizontal_flip=True,\n",
    "                                  fill_mode='nearest')\n",
    "test_datagen = ImageDataGenerator(rescale=1.0/255)\n",
    "train_generator = train_datagen.flow_from_directory(train_dir,\n",
    "                                                   target_size=(256,256),\n",
    "                                                   batch_size=20,\n",
    "                                                   class_mode='categorical')\n",
    "validation_generator = test_datagen.flow_from_directory(validation_dir,\n",
    "                                                       target_size=(256,256),\n",
    "                                                       batch_size=20,\n",
    "                                                       class_mode='categorical')\n",
    "model.compile(loss='categorical_crossentropy',\n",
    "             optimizer=optimizers.RMSprop(lr=2e-5),\n",
    "             metrics=['acc'])\n",
    "history = model.fit_generator(train_generator,\n",
    "                             steps_per_epoch=1125,\n",
    "                             epochs=30,\n",
    "                             validation_data=validation_generator,\n",
    "                             validation_steps=450)\n",
    "print('----------finished----------')"
   ]
  },
  {
   "cell_type": "markdown",
   "metadata": {},
   "source": [
    "#####方法2#####"
   ]
  },
  {
   "cell_type": "code",
   "execution_count": 19,
   "metadata": {},
   "outputs": [],
   "source": [
    "import numpy as np\n",
    "from keras.preprocessing.image import ImageDataGenerator"
   ]
  },
  {
   "cell_type": "code",
   "execution_count": 20,
   "metadata": {},
   "outputs": [],
   "source": [
    "datagen1 = ImageDataGenerator(rescale=1.0/255)\n",
    "batch_size = 20"
   ]
  },
  {
   "cell_type": "code",
   "execution_count": 24,
   "metadata": {},
   "outputs": [],
   "source": [
    "def extract_features(directory,sample_count):\n",
    "    features = np.zeros(shape=(sample_count,8,8,512))\n",
    "    labels = np.zeros(shape=(sample_count,45))\n",
    "    generator = datagen1.flow_from_directory(directory,\n",
    "                                            target_size=(256,256),\n",
    "                                            batch_size=batch_size,\n",
    "                                            class_mode='categorical')\n",
    "    i = 0\n",
    "    for inputs_batch,labels_batch in generator:\n",
    "        features_batch = cov_base.predict(inputs_batch)\n",
    "        features[i*batch_size:(i+1)*batch_size] = features_batch\n",
    "        labels[i*batch_size:(i+1)*batch_size] = labels_batch\n",
    "        i +=1\n",
    "        if i*batch_size >= sample_count:\n",
    "            break\n",
    "    return features,labels"
   ]
  },
  {
   "cell_type": "code",
   "execution_count": 25,
   "metadata": {},
   "outputs": [
    {
     "name": "stdout",
     "output_type": "stream",
     "text": [
      "Found 22500 images belonging to 45 classes.\n",
      "Found 4500 images belonging to 45 classes.\n",
      "Found 4500 images belonging to 45 classes.\n",
      "finished\n"
     ]
    }
   ],
   "source": [
    "train_features, train_labels = extract_features(train_dir,22500)\n",
    "validation_features, validation_labels = extract_features(validation_dir,4500)\n",
    "test_features, test_lables = extract_features(test_dir,4500)\n",
    "\n",
    "print('finished')"
   ]
  },
  {
   "cell_type": "code",
   "execution_count": 27,
   "metadata": {},
   "outputs": [],
   "source": [
    "train_features = np.reshape(train_features,(22500,8*8*512))\n",
    "validation_features = np.reshape(validation_features,(4500,8*8*512))\n",
    "test_features = np.reshape(test_features,(4500,8*8*512))"
   ]
  },
  {
   "cell_type": "code",
   "execution_count": 28,
   "metadata": {},
   "outputs": [],
   "source": [
    "from keras import models\n",
    "from keras import layers\n",
    "from keras import optimizers"
   ]
  },
  {
   "cell_type": "code",
   "execution_count": 29,
   "metadata": {},
   "outputs": [
    {
     "name": "stdout",
     "output_type": "stream",
     "text": [
      "Train on 22500 samples, validate on 4500 samples\n",
      "Epoch 1/30\n",
      "22500/22500 [==============================] - 567s 25ms/step - loss: 2.7580 - acc: 0.2839 - val_loss: 1.9036 - val_acc: 0.5529\n",
      "Epoch 2/30\n",
      "22500/22500 [==============================] - 266s 12ms/step - loss: 1.8798 - acc: 0.4978 - val_loss: 1.4508 - val_acc: 0.6558\n",
      "Epoch 3/30\n",
      "22500/22500 [==============================] - 213s 9ms/step - loss: 1.5292 - acc: 0.5823 - val_loss: 1.2703 - val_acc: 0.6771\n",
      "Epoch 4/30\n",
      "22500/22500 [==============================] - 214s 9ms/step - loss: 1.3348 - acc: 0.6325 - val_loss: 1.1369 - val_acc: 0.7036\n",
      "Epoch 5/30\n",
      "22500/22500 [==============================] - 164s 7ms/step - loss: 1.1871 - acc: 0.6688 - val_loss: 1.0638 - val_acc: 0.7240\n",
      "Epoch 6/30\n",
      "22500/22500 [==============================] - 261s 12ms/step - loss: 1.0802 - acc: 0.6984 - val_loss: 1.0061 - val_acc: 0.7356\n",
      "Epoch 7/30\n",
      "22500/22500 [==============================] - 206s 9ms/step - loss: 0.9816 - acc: 0.7260 - val_loss: 0.9467 - val_acc: 0.7444\n",
      "Epoch 8/30\n",
      "22500/22500 [==============================] - 202s 9ms/step - loss: 0.9149 - acc: 0.7440 - val_loss: 0.9336 - val_acc: 0.7396\n",
      "Epoch 9/30\n",
      "22500/22500 [==============================] - 159s 7ms/step - loss: 0.8374 - acc: 0.7632 - val_loss: 0.8974 - val_acc: 0.7580\n",
      "Epoch 10/30\n",
      "22500/22500 [==============================] - 211s 9ms/step - loss: 0.7767 - acc: 0.7800 - val_loss: 0.8669 - val_acc: 0.7571\n",
      "Epoch 11/30\n",
      "22500/22500 [==============================] - 185s 8ms/step - loss: 0.7321 - acc: 0.7935 - val_loss: 0.8458 - val_acc: 0.7631\n",
      "Epoch 12/30\n",
      "22500/22500 [==============================] - 206s 9ms/step - loss: 0.6932 - acc: 0.8064 - val_loss: 0.8392 - val_acc: 0.7724\n",
      "Epoch 13/30\n",
      "22500/22500 [==============================] - 164s 7ms/step - loss: 0.6467 - acc: 0.8180 - val_loss: 0.8262 - val_acc: 0.7598\n",
      "Epoch 14/30\n",
      "22500/22500 [==============================] - 151s 7ms/step - loss: 0.6045 - acc: 0.8295 - val_loss: 0.8119 - val_acc: 0.7680\n",
      "Epoch 15/30\n",
      "22500/22500 [==============================] - 169s 8ms/step - loss: 0.5725 - acc: 0.8396 - val_loss: 0.8083 - val_acc: 0.7709\n",
      "Epoch 16/30\n",
      "22500/22500 [==============================] - 144s 6ms/step - loss: 0.5412 - acc: 0.8489 - val_loss: 0.7854 - val_acc: 0.7733\n",
      "Epoch 17/30\n",
      "22500/22500 [==============================] - 127s 6ms/step - loss: 0.5125 - acc: 0.8592 - val_loss: 0.7795 - val_acc: 0.7762\n",
      "Epoch 18/30\n",
      "22500/22500 [==============================] - 133s 6ms/step - loss: 0.4835 - acc: 0.8653 - val_loss: 0.7798 - val_acc: 0.7736\n",
      "Epoch 19/30\n",
      "22500/22500 [==============================] - 154s 7ms/step - loss: 0.4622 - acc: 0.8731 - val_loss: 0.7744 - val_acc: 0.7778\n",
      "Epoch 20/30\n",
      "22500/22500 [==============================] - 139s 6ms/step - loss: 0.4372 - acc: 0.8774 - val_loss: 0.7772 - val_acc: 0.7780\n",
      "Epoch 21/30\n",
      "22500/22500 [==============================] - 139s 6ms/step - loss: 0.4178 - acc: 0.8857 - val_loss: 0.7649 - val_acc: 0.7784\n",
      "Epoch 22/30\n",
      "22500/22500 [==============================] - 137s 6ms/step - loss: 0.3974 - acc: 0.8906 - val_loss: 0.7674 - val_acc: 0.7771\n",
      "Epoch 23/30\n",
      "22500/22500 [==============================] - 117s 5ms/step - loss: 0.3720 - acc: 0.8965 - val_loss: 0.7542 - val_acc: 0.7831\n",
      "Epoch 24/30\n",
      "22500/22500 [==============================] - 150s 7ms/step - loss: 0.3551 - acc: 0.9029 - val_loss: 0.7654 - val_acc: 0.7813\n",
      "Epoch 25/30\n",
      "22500/22500 [==============================] - 145s 6ms/step - loss: 0.3373 - acc: 0.9103 - val_loss: 0.7594 - val_acc: 0.7813\n",
      "Epoch 26/30\n",
      "22500/22500 [==============================] - 195s 9ms/step - loss: 0.3227 - acc: 0.9122 - val_loss: 0.7664 - val_acc: 0.7809\n",
      "Epoch 27/30\n",
      "22500/22500 [==============================] - 1317s 59ms/step - loss: 0.3123 - acc: 0.9156 - val_loss: 0.7635 - val_acc: 0.7793\n",
      "Epoch 28/30\n",
      "22500/22500 [==============================] - 312s 14ms/step - loss: 0.2937 - acc: 0.9195 - val_loss: 0.7476 - val_acc: 0.7873\n",
      "Epoch 29/30\n",
      "22500/22500 [==============================] - 161s 7ms/step - loss: 0.2781 - acc: 0.9252 - val_loss: 0.7550 - val_acc: 0.7882\n",
      "Epoch 30/30\n",
      "22500/22500 [==============================] - 196s 9ms/step - loss: 0.2700 - acc: 0.9299 - val_loss: 0.7543 - val_acc: 0.7842\n",
      "finished\n"
     ]
    }
   ],
   "source": [
    "model = models.Sequential()\n",
    "model.add(layers.Dense(256,activation='relu',input_dim = 8*8*512))\n",
    "model.add(layers.Dropout(0.5))\n",
    "model.add(layers.Dense(45,activation='softmax'))\n",
    "\n",
    "model.compile(optimizer=optimizers.RMSprop(lr=2e-5),\n",
    "             loss='categorical_crossentropy',\n",
    "             metrics=['acc'])\n",
    "\n",
    "history = model.fit(train_features,train_labels,\n",
    "                   epochs=30,\n",
    "                   batch_size=20,\n",
    "                   validation_data=(validation_features,validation_labels))\n",
    "print('finished')"
   ]
  },
  {
   "cell_type": "code",
   "execution_count": 35,
   "metadata": {},
   "outputs": [
    {
     "data": {
      "image/png": "[encoded data removed]",
      "text/plain": [
       "<Figure size 432x288 with 1 Axes>"
      ]
     },
     "metadata": {
      "needs_background": "light"
     },
     "output_type": "display_data"
    },
    {
     "data": {
      "image/png": "[encoded data removed]",
      "text/plain": [
       "<Figure size 432x288 with 1 Axes>"
      ]
     },
     "metadata": {
      "needs_background": "light"
     },
     "output_type": "display_data"
    }
   ],
   "source": [
    "%matplotlib inline\n",
    "import matplotlib.pyplot as plt\n",
    "\n",
    "acc = history.history['acc']\n",
    "val_acc = history.history['val_acc']\n",
    "loss = history.history['loss']\n",
    "val_loss = history.history['val_loss']\n",
    "\n",
    "epochs = range(1,len(acc)+1)\n",
    "\n",
    "plt.plot(epochs,acc,'bo',label='Traning acc')\n",
    "plt.plot(epochs,val_acc,'b',label='Validation acc')\n",
    "plt.title('Traning and validation accuracy')\n",
    "plt.legend()\n",
    "plt.show()\n",
    "plt.figure\n",
    "\n",
    "plt.plot(epochs,loss,'bo',label='Traning loss')\n",
    "plt.plot(epochs,val_loss,'b',label='Validation loss')\n",
    "plt.title('Traning and validation loss')\n",
    "plt.legend()\n",
    "\n",
    "plt.show()"
   ]
  },
  {
   "cell_type": "code",
   "execution_count": 36,
   "metadata": {},
   "outputs": [],
   "source": [
    "model.save('vgg16_45.h5')"
   ]
  },
  {
   "cell_type": "code",
   "execution_count": null,
   "metadata": {},
   "outputs": [],
   "source": []
  }
 ],
 "metadata": {
  "kernelspec": {
   "display_name": "Python 3",
   "language": "python",
   "name": "python3"
  },
  "language_info": {
   "codemirror_mode": {
    "name": "ipython",
    "version": 3
   },
   "file_extension": ".py",
   "mimetype": "text/x-python",
   "name": "python",
   "nbconvert_exporter": "python",
   "pygments_lexer": "ipython3",
   "version": "3.6.2"
  },
  "toc": {
   "base_numbering": 1,
   "nav_menu": {},
   "number_sections": true,
   "sideBar": true,
   "skip_h1_title": false,
   "title_cell": "Table of Contents",
   "title_sidebar": "Contents",
   "toc_cell": false,
   "toc_position": {},
   "toc_section_display": true,
   "toc_window_display": false
  }
 },
 "nbformat": 4,
 "nbformat_minor": 2
}
